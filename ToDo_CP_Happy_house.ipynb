{
 "cells": [
  {
   "cell_type": "markdown",
   "metadata": {
    "colab_type": "text",
    "id": "2th5H5b1hbcS"
   },
   "source": [
    "# If you happy and I know it you can enter my House \n",
    "\n",
    "You'll see how you can in a couple of hours build a deep learning algorithm."
   ]
  },
  {
   "cell_type": "code",
   "execution_count": 1,
   "metadata": {
    "colab": {
     "base_uri": "https://localhost:8080/",
     "height": 73
    },
    "colab_type": "code",
    "id": "MuU-RPhvflcW",
    "outputId": "d28295fe-ea4e-4da2-9f7e-b276c2543574"
   },
   "outputs": [],
   "source": [
    "import numpy as np\n",
    "from sklearn.metrics import confusion_matrix\n",
    "import seaborn as sns\n",
    "import h5py\n",
    "from keras import layers\n",
    "from keras.layers import Input, Dense, Activation, ZeroPadding2D, BatchNormalization, Flatten, Conv2D\n",
    "from keras.layers import AveragePooling2D, MaxPooling2D, Dropout, GlobalMaxPooling2D, GlobalAveragePooling2D\n",
    "from keras.models import Model\n",
    "from keras.preprocessing import image\n",
    "from keras.utils import layer_utils\n",
    "from keras.utils.data_utils import get_file\n",
    "from keras.applications.imagenet_utils import preprocess_input\n",
    "from keras.models import Sequential\n",
    "\n",
    "import pydot\n",
    "from IPython.display import SVG\n",
    "\n",
    "\n",
    "import keras.backend as K\n",
    "K.set_image_data_format('channels_last')\n",
    "import matplotlib.pyplot as plt\n",
    "from matplotlib.pyplot import imshow\n"
   ]
  },
  {
   "cell_type": "code",
   "execution_count": 2,
   "metadata": {
    "colab": {},
    "colab_type": "code",
    "id": "4Z7gBX7YfTRL"
   },
   "outputs": [],
   "source": [
    "def load_dataset(path_to_train, path_to_test):\n",
    "    train_dataset = h5py.File(path_to_train)\n",
    "    train_x = np.array(train_dataset['train_set_x'][:])\n",
    "    train_y = np.array(train_dataset['train_set_y'][:])\n",
    "\n",
    "    test_dataset = h5py.File(path_to_test)\n",
    "    test_x = np.array(test_dataset['test_set_x'][:])\n",
    "    test_y = np.array(test_dataset['test_set_y'][:])\n",
    "\n",
    "    # y reshaped\n",
    "    train_y = train_y.reshape((1, train_x.shape[0]))\n",
    "    test_y = test_y.reshape((1, test_y.shape[0]))\n",
    "\n",
    "    return train_x, train_y, test_x, test_y"
   ]
  },
  {
   "cell_type": "markdown",
   "metadata": {
    "colab_type": "text",
    "id": "s0shUMnCg9GK"
   },
   "source": [
    "This dataset can be used to solve the Happy House problem.\n",
    "Where, we allow a person to enter the house only if he/she is smiling!\n",
    "So, a smile detector!\n"
   ]
  },
  {
   "cell_type": "markdown",
   "metadata": {
    "colab_type": "text",
    "id": "LF7js4UdhO0F"
   },
   "source": [
    "![Texte alternatif…](https://raw.githubusercontent.com/Kulbear/deep-learning-coursera/master/Convolutional%20Neural%20Networks/images/house-members.png)"
   ]
  },
  {
   "cell_type": "markdown",
   "metadata": {
    "colab_type": "text",
    "id": "roksQQtvizn4"
   },
   "source": [
    "\n",
    "\n",
    "Details of the \"Happy\" dataset:\n",
    "\n",
    "* Images are of shape (64,64,3)\n",
    "* Training: 600 pictures\n",
    "* Test: 150 pictures\n"
   ]
  },
  {
   "cell_type": "markdown",
   "metadata": {
    "colab_type": "text",
    "id": "z9hCBeyJi--_"
   },
   "source": [
    "# Load Dataset"
   ]
  },
  {
   "cell_type": "code",
   "execution_count": 3,
   "metadata": {
    "colab": {
     "base_uri": "https://localhost:8080/",
     "height": 216
    },
    "colab_type": "code",
    "id": "nOZo0cNbg8ts",
    "outputId": "6a0c4a30-23e8-4b60-f37f-d74aedca03b5"
   },
   "outputs": [
    {
     "name": "stdout",
     "output_type": "stream",
     "text": [
      "number of training examples = 600\n",
      "number of test examples = 150\n",
      "X_train shape: (600, 64, 64, 3)\n",
      "Y_train shape: (600, 1)\n",
      "X_test shape: (150, 64, 64, 3)\n",
      "Y_test shape: (150, 1)\n"
     ]
    },
    {
     "name": "stderr",
     "output_type": "stream",
     "text": [
      "<ipython-input-2-1fbd9174b086>:2: H5pyDeprecationWarning: The default file mode will change to 'r' (read-only) in h5py 3.0. To suppress this warning, pass the mode you need to h5py.File(), or set the global default h5.get_config().default_file_mode, or set the environment variable H5PY_DEFAULT_READONLY=1. Available modes are: 'r', 'r+', 'w', 'w-'/'x', 'a'. See the docs for details.\n",
      "  train_dataset = h5py.File(path_to_train)\n",
      "<ipython-input-2-1fbd9174b086>:6: H5pyDeprecationWarning: The default file mode will change to 'r' (read-only) in h5py 3.0. To suppress this warning, pass the mode you need to h5py.File(), or set the global default h5.get_config().default_file_mode, or set the environment variable H5PY_DEFAULT_READONLY=1. Available modes are: 'r', 'r+', 'w', 'w-'/'x', 'a'. See the docs for details.\n",
      "  test_dataset = h5py.File(path_to_test)\n"
     ]
    }
   ],
   "source": [
    "X_train_orig, Y_train_orig, X_test_orig, Y_test_orig = load_dataset(\"train_happy.h5\",\"test_happy.h5\")\n",
    "\n",
    "# Normalize image vectors\n",
    "X_train = X_train_orig/255.\n",
    "X_test = X_test_orig/255.\n",
    "\n",
    "# Reshape\n",
    "Y_train = Y_train_orig.T\n",
    "Y_test = Y_test_orig.T\n",
    "\n",
    "print (\"number of training examples = \" + str(X_train.shape[0]))\n",
    "print (\"number of test examples = \" + str(X_test.shape[0]))\n",
    "print (\"X_train shape: \" + str(X_train.shape))\n",
    "print (\"Y_train shape: \" + str(Y_train.shape))\n",
    "print (\"X_test shape: \" + str(X_test.shape))\n",
    "print (\"Y_test shape: \" + str(Y_test.shape))"
   ]
  },
  {
   "cell_type": "code",
   "execution_count": 4,
   "metadata": {
    "colab": {
     "base_uri": "https://localhost:8080/",
     "height": 304
    },
    "colab_type": "code",
    "id": "RALj5hk4gMXB",
    "outputId": "236220f5-9ab4-496b-ff54-9a3595c76b2e"
   },
   "outputs": [
    {
     "name": "stdout",
     "output_type": "stream",
     "text": [
      "Image shape : (64, 64, 3)\n"
     ]
    },
    {
     "data": {
      "text/plain": [
       "<matplotlib.image.AxesImage at 0x18f03210430>"
      ]
     },
     "execution_count": 4,
     "metadata": {},
     "output_type": "execute_result"
    },
    {
     "data": {
      "image/png": "[encoded data removed]",
      "text/plain": [
       "<Figure size 432x288 with 1 Axes>"
      ]
     },
     "metadata": {
      "needs_background": "light"
     },
     "output_type": "display_data"
    }
   ],
   "source": [
    "# Sample image from dataset\n",
    "print(\"Image shape :\",X_train_orig[10].shape)\n",
    "imshow(X_train_orig[10])"
   ]
  },
  {
   "cell_type": "markdown",
   "metadata": {
    "colab_type": "text",
    "id": "vQNZh4XxjCiB"
   },
   "source": [
    "# Building Model"
   ]
  },
  {
   "cell_type": "markdown",
   "metadata": {
    "colab_type": "text",
    "id": "IJJpc1lppa_m"
   },
   "source": [
    "_________________________________________________________________\n",
    "\n",
    "conv2d_3 (Conv2D)            (None, 64, 64, 32)        4736      \n",
    "_________________________________________________________________\n",
    "batch_normalization_2 (Batch (None, 64, 64, 32)        128       \n",
    "_________________________________________________________________\n",
    "max_pooling2d_2 (MaxPooling2 (None, 32, 32, 32)        0         \n",
    "_________________________________________________________________\n",
    "flatten_2 (Flatten)          (None, 32768)             0         \n",
    "_________________________________________________________________\n",
    "dense_2 (Dense)              (None, 1)                 32769     \n",
    "_________________________________________________________________\n",
    "\n"
   ]
  },
  {
   "cell_type": "code",
   "execution_count": 8,
   "metadata": {
    "colab": {},
    "colab_type": "code",
    "id": "j1YT0k2rkvAM"
   },
   "outputs": [
    {
     "name": "stdout",
     "output_type": "stream",
     "text": [
      "Model: \"sequential_2\"\n",
      "_________________________________________________________________\n",
      "Layer (type)                 Output Shape              Param #   \n",
      "=================================================================\n",
      "conv2d_6 (Conv2D)            (None, 64, 64, 32)        896       \n",
      "_________________________________________________________________\n",
      "batch_normalization_2 (Batch (None, 64, 64, 32)        128       \n",
      "_________________________________________________________________\n",
      "max_pooling2d_4 (MaxPooling2 (None, 32, 32, 32)        0         \n",
      "_________________________________________________________________\n",
      "flatten_2 (Flatten)          (None, 32768)             0         \n",
      "_________________________________________________________________\n",
      "dense_4 (Dense)              (None, 1)                 32769     \n",
      "=================================================================\n",
      "Total params: 33,793\n",
      "Trainable params: 33,729\n",
      "Non-trainable params: 64\n",
      "_________________________________________________________________\n"
     ]
    }
   ],
   "source": [
    "model = Sequential()\n",
    "model.add(Conv2D(filters=32, kernel_size=(3,3), activation='relu', padding='Same', input_shape=(64,64,3)))\n",
    "\n",
    "model.add(BatchNormalization())\n",
    "\n",
    "model.add(MaxPooling2D(pool_size=(2,2)))\n",
    "\n",
    "model.add(Flatten())\n",
    "\n",
    "\n",
    "model.add(Dense(1, activation='sigmoid'))\n",
    "\n",
    "\n",
    "model.summary()\n"
   ]
  },
  {
   "cell_type": "code",
   "execution_count": 9,
   "metadata": {
    "colab": {},
    "colab_type": "code",
    "id": "3CtQ3d7pmdEU"
   },
   "outputs": [],
   "source": [
    "model.compile(optimizer=\"adam\", loss='binary_crossentropy', metrics=[\"accuracy\"])"
   ]
  },
  {
   "cell_type": "code",
   "execution_count": 10,
   "metadata": {
    "colab": {
     "base_uri": "https://localhost:8080/",
     "height": 196
    },
    "colab_type": "code",
    "id": "JJzOsVQnmsz0",
    "outputId": "2e3656cd-a67e-42d0-9ce7-f358aebb75b7",
    "scrolled": true
   },
   "outputs": [
    {
     "name": "stdout",
     "output_type": "stream",
     "text": [
      "Epoch 1/30\n",
      "20/20 [==============================] - 1s 67ms/step - loss: 0.9708 - accuracy: 0.7150\n",
      "Epoch 2/30\n",
      "20/20 [==============================] - 1s 64ms/step - loss: 0.1793 - accuracy: 0.9200\n",
      "Epoch 3/30\n",
      "20/20 [==============================] - 1s 63ms/step - loss: 0.0883 - accuracy: 0.9683\n",
      "Epoch 4/30\n",
      "20/20 [==============================] - 1s 67ms/step - loss: 0.0832 - accuracy: 0.9750\n",
      "Epoch 5/30\n",
      "20/20 [==============================] - 1s 63ms/step - loss: 0.0609 - accuracy: 0.9783\n",
      "Epoch 6/30\n",
      "20/20 [==============================] - 1s 65ms/step - loss: 0.0703 - accuracy: 0.9783\n",
      "Epoch 7/30\n",
      "20/20 [==============================] - 1s 67ms/step - loss: 0.0260 - accuracy: 0.9917\n",
      "Epoch 8/30\n",
      "20/20 [==============================] - 1s 64ms/step - loss: 0.0301 - accuracy: 0.9933\n",
      "Epoch 9/30\n",
      "20/20 [==============================] - 1s 68ms/step - loss: 0.0394 - accuracy: 0.9850\n",
      "Epoch 10/30\n",
      "20/20 [==============================] - 1s 72ms/step - loss: 0.0215 - accuracy: 0.9950\n",
      "Epoch 11/30\n",
      "20/20 [==============================] - 1s 70ms/step - loss: 0.0148 - accuracy: 0.9967\n",
      "Epoch 12/30\n",
      "20/20 [==============================] - 1s 66ms/step - loss: 0.0138 - accuracy: 0.9967\n",
      "Epoch 13/30\n",
      "20/20 [==============================] - 1s 69ms/step - loss: 0.0158 - accuracy: 0.9967\n",
      "Epoch 14/30\n",
      "20/20 [==============================] - 1s 66ms/step - loss: 0.0139 - accuracy: 0.9983\n",
      "Epoch 15/30\n",
      "20/20 [==============================] - 1s 66ms/step - loss: 0.0120 - accuracy: 0.9983\n",
      "Epoch 16/30\n",
      "20/20 [==============================] - 1s 65ms/step - loss: 0.0103 - accuracy: 0.9967\n",
      "Epoch 17/30\n",
      "20/20 [==============================] - 1s 69ms/step - loss: 0.0061 - accuracy: 0.9983\n",
      "Epoch 18/30\n",
      "20/20 [==============================] - 1s 66ms/step - loss: 0.0048 - accuracy: 0.9983\n",
      "Epoch 19/30\n",
      "20/20 [==============================] - 1s 64ms/step - loss: 0.0054 - accuracy: 1.0000\n",
      "Epoch 20/30\n",
      "20/20 [==============================] - 1s 63ms/step - loss: 0.0099 - accuracy: 0.9983\n",
      "Epoch 21/30\n",
      "20/20 [==============================] - 1s 68ms/step - loss: 0.0049 - accuracy: 1.0000\n",
      "Epoch 22/30\n",
      "20/20 [==============================] - 1s 64ms/step - loss: 0.0026 - accuracy: 1.0000\n",
      "Epoch 23/30\n",
      "20/20 [==============================] - 1s 63ms/step - loss: 0.0032 - accuracy: 1.0000\n",
      "Epoch 24/30\n",
      "20/20 [==============================] - 1s 66ms/step - loss: 0.0044 - accuracy: 1.0000\n",
      "Epoch 25/30\n",
      "20/20 [==============================] - 1s 66ms/step - loss: 0.0029 - accuracy: 1.0000\n",
      "Epoch 26/30\n",
      "20/20 [==============================] - 1s 71ms/step - loss: 0.0073 - accuracy: 0.9967\n",
      "Epoch 27/30\n",
      "20/20 [==============================] - 1s 71ms/step - loss: 0.0393 - accuracy: 0.9867\n",
      "Epoch 28/30\n",
      "20/20 [==============================] - 1s 71ms/step - loss: 0.0353 - accuracy: 0.9900\n",
      "Epoch 29/30\n",
      "20/20 [==============================] - 1s 67ms/step - loss: 0.0134 - accuracy: 0.9967\n",
      "Epoch 30/30\n",
      "20/20 [==============================] - 1s 65ms/step - loss: 0.0069 - accuracy: 0.9983\n"
     ]
    }
   ],
   "source": [
    "history_model = model.fit(X_train, Y_train, epochs=30, batch_size=30)"
   ]
  },
  {
   "cell_type": "markdown",
   "metadata": {
    "colab_type": "text",
    "id": "MZFI90ydpx0n"
   },
   "source": [
    "# Evaluate / Test"
   ]
  },
  {
   "cell_type": "code",
   "execution_count": 11,
   "metadata": {
    "colab": {
     "base_uri": "https://localhost:8080/",
     "height": 299
    },
    "colab_type": "code",
    "id": "xV8Jav30myg0",
    "outputId": "2b6d9f46-94b0-40bd-a200-897c20127007"
   },
   "outputs": [
    {
     "data": {
      "text/plain": [
       "<matplotlib.legend.Legend at 0x18f0ccc1190>"
      ]
     },
     "execution_count": 11,
     "metadata": {},
     "output_type": "execute_result"
    },
    {
     "data": {
      "image/png": "[encoded data removed]",
      "text/plain": [
       "<Figure size 432x288 with 1 Axes>"
      ]
     },
     "metadata": {
      "needs_background": "light"
     },
     "output_type": "display_data"
    }
   ],
   "source": [
    "train_loss = history_model.history['loss']\n",
    "\n",
    "train_accuracy = history_model.history['accuracy']\n",
    "\n",
    "count = range(len(train_accuracy))\n",
    "plt.plot(count, train_accuracy, label='Training accuracy')\n",
    "plt.plot(count, train_loss, label='Training Loss')\n",
    "plt.title('epochs vs Training Loss')\n",
    "plt.legend()"
   ]
  },
  {
   "cell_type": "markdown",
   "metadata": {
    "colab_type": "text",
    "id": "gBOEETB6qD3L"
   },
   "source": [
    "Evaluate Test set"
   ]
  },
  {
   "cell_type": "code",
   "execution_count": 16,
   "metadata": {
    "colab": {},
    "colab_type": "code",
    "id": "VNuzxr58m6bI"
   },
   "outputs": [
    {
     "name": "stdout",
     "output_type": "stream",
     "text": [
      "5/5 [==============================] - 0s 9ms/step - loss: 0.1029 - accuracy: 0.9600\n"
     ]
    },
    {
     "data": {
      "text/plain": [
       "[0.1029306948184967, 0.9599999785423279]"
      ]
     },
     "execution_count": 16,
     "metadata": {},
     "output_type": "execute_result"
    }
   ],
   "source": [
    "# Code Here\n",
    "\n",
    "model.evaluate(X_test,Y_test,)"
   ]
  },
  {
   "cell_type": "code",
   "execution_count": 26,
   "metadata": {},
   "outputs": [],
   "source": [
    "y_pred = model.predict(X_test)"
   ]
  },
  {
   "cell_type": "markdown",
   "metadata": {
    "colab_type": "text",
    "id": "hFC1nz5_p33b"
   },
   "source": [
    "Confusion Matrix"
   ]
  },
  {
   "cell_type": "code",
   "execution_count": 32,
   "metadata": {},
   "outputs": [
    {
     "data": {
      "text/plain": [
       "array([[1.00000000e+00],\n",
       "       [9.99874234e-01],\n",
       "       [9.99999166e-01],\n",
       "       [9.99995410e-01],\n",
       "       [8.60287309e-01],\n",
       "       [9.99329448e-01],\n",
       "       [9.97808218e-01],\n",
       "       [1.12833679e-02],\n",
       "       [9.98258471e-01],\n",
       "       [3.12853456e-02],\n",
       "       [9.97706532e-01],\n",
       "       [2.33037472e-02],\n",
       "       [5.05931616e-01],\n",
       "       [4.75784034e-01],\n",
       "       [1.59466863e-02],\n",
       "       [9.99312878e-01],\n",
       "       [7.03215599e-04],\n",
       "       [9.99857306e-01],\n",
       "       [3.87325883e-03],\n",
       "       [9.99999881e-01],\n",
       "       [9.90737796e-01],\n",
       "       [9.99534607e-01],\n",
       "       [3.69159818e-01],\n",
       "       [9.99999762e-01],\n",
       "       [3.08549404e-03],\n",
       "       [1.36667490e-03],\n",
       "       [9.81026649e-01],\n",
       "       [1.03326470e-01],\n",
       "       [2.17652470e-01],\n",
       "       [9.99907613e-01],\n",
       "       [9.99658704e-01],\n",
       "       [9.99967098e-01],\n",
       "       [9.99428809e-01],\n",
       "       [9.99992490e-01],\n",
       "       [9.99772310e-01],\n",
       "       [9.99951065e-01],\n",
       "       [1.04275852e-01],\n",
       "       [1.20335519e-02],\n",
       "       [5.45307100e-02],\n",
       "       [9.38010216e-03],\n",
       "       [8.85225534e-01],\n",
       "       [1.73043311e-02],\n",
       "       [3.25200260e-02],\n",
       "       [4.04652953e-03],\n",
       "       [1.00000000e+00],\n",
       "       [8.37448239e-03],\n",
       "       [2.39521265e-04],\n",
       "       [1.24090910e-03],\n",
       "       [9.99679208e-01],\n",
       "       [3.00866365e-03],\n",
       "       [1.29187107e-03],\n",
       "       [9.65577364e-03],\n",
       "       [9.82271194e-01],\n",
       "       [9.20110583e-01],\n",
       "       [1.26596987e-01],\n",
       "       [9.99788582e-01],\n",
       "       [9.99964595e-01],\n",
       "       [9.70161080e-01],\n",
       "       [9.99879837e-01],\n",
       "       [1.00000000e+00],\n",
       "       [9.76729512e-01],\n",
       "       [9.99972522e-01],\n",
       "       [9.60300624e-01],\n",
       "       [9.26823676e-01],\n",
       "       [9.99996781e-01],\n",
       "       [7.41557181e-01],\n",
       "       [9.85689044e-01],\n",
       "       [9.98011231e-01],\n",
       "       [9.99244094e-01],\n",
       "       [9.99998450e-01],\n",
       "       [9.99942422e-01],\n",
       "       [3.42294872e-02],\n",
       "       [3.23423445e-02],\n",
       "       [1.10750705e-01],\n",
       "       [1.65730476e-01],\n",
       "       [9.96457696e-01],\n",
       "       [9.95309532e-01],\n",
       "       [1.38327479e-03],\n",
       "       [8.43288422e-01],\n",
       "       [9.99991536e-01],\n",
       "       [2.43796706e-02],\n",
       "       [9.99933481e-01],\n",
       "       [1.01848543e-02],\n",
       "       [1.00000000e+00],\n",
       "       [1.12857342e-01],\n",
       "       [9.99865294e-01],\n",
       "       [9.99361455e-01],\n",
       "       [2.31214762e-02],\n",
       "       [9.69880819e-03],\n",
       "       [1.00000000e+00],\n",
       "       [1.97235346e-02],\n",
       "       [3.08028758e-02],\n",
       "       [4.93744224e-01],\n",
       "       [6.31246269e-02],\n",
       "       [9.98926044e-01],\n",
       "       [7.19051123e-01],\n",
       "       [9.99868095e-01],\n",
       "       [1.83081627e-02],\n",
       "       [9.99999523e-01],\n",
       "       [9.98682976e-01],\n",
       "       [1.00000000e+00],\n",
       "       [2.27991581e-01],\n",
       "       [1.00000000e+00],\n",
       "       [4.75764275e-02],\n",
       "       [9.70641673e-02],\n",
       "       [9.05917883e-02],\n",
       "       [1.07511878e-03],\n",
       "       [9.99803662e-01],\n",
       "       [8.42940807e-03],\n",
       "       [1.67190731e-02],\n",
       "       [9.99999821e-01],\n",
       "       [9.99982119e-01],\n",
       "       [1.10118568e-01],\n",
       "       [2.55223364e-01],\n",
       "       [9.99999225e-01],\n",
       "       [9.99725699e-01],\n",
       "       [6.18713140e-01],\n",
       "       [3.49895358e-02],\n",
       "       [9.99999762e-01],\n",
       "       [2.21509933e-02],\n",
       "       [9.89314556e-01],\n",
       "       [9.99995649e-01],\n",
       "       [4.52351272e-02],\n",
       "       [1.00000000e+00],\n",
       "       [9.66341019e-01],\n",
       "       [9.98970628e-01],\n",
       "       [5.25406003e-03],\n",
       "       [9.99877691e-01],\n",
       "       [9.89870310e-01],\n",
       "       [5.62581420e-03],\n",
       "       [9.99996483e-01],\n",
       "       [9.99999344e-01],\n",
       "       [1.12754107e-03],\n",
       "       [9.99970078e-01],\n",
       "       [9.99938190e-01],\n",
       "       [1.00000000e+00],\n",
       "       [7.84622908e-01],\n",
       "       [9.98866081e-01],\n",
       "       [1.92101091e-01],\n",
       "       [9.99999642e-01],\n",
       "       [9.96451735e-01],\n",
       "       [9.99784470e-01],\n",
       "       [3.74454260e-02],\n",
       "       [9.83174324e-01],\n",
       "       [1.78060740e-01],\n",
       "       [9.04123902e-01],\n",
       "       [2.31260657e-02],\n",
       "       [9.99147415e-01],\n",
       "       [9.99470472e-01],\n",
       "       [7.91164398e-01]], dtype=float32)"
      ]
     },
     "execution_count": 32,
     "metadata": {},
     "output_type": "execute_result"
    }
   ],
   "source": [
    "y_pred"
   ]
  },
  {
   "cell_type": "code",
   "execution_count": 33,
   "metadata": {},
   "outputs": [],
   "source": [
    "y_pred1 = np.where(y_pred > 0.5, 1, 0)"
   ]
  },
  {
   "cell_type": "code",
   "execution_count": 34,
   "metadata": {
    "colab": {},
    "colab_type": "code",
    "id": "iflIgFgnnIfv",
    "scrolled": true
   },
   "outputs": [
    {
     "data": {
      "text/plain": [
       "array([[60,  6],\n",
       "       [ 0, 84]], dtype=int64)"
      ]
     },
     "execution_count": 34,
     "metadata": {},
     "output_type": "execute_result"
    }
   ],
   "source": [
    "# Code Here\n",
    "confusion_matrix(Y_test, y_pred1)"
   ]
  },
  {
   "cell_type": "code",
   "execution_count": null,
   "metadata": {},
   "outputs": [],
   "source": []
  },
  {
   "cell_type": "markdown",
   "metadata": {
    "colab_type": "text",
    "id": "QQKL1aDLqjqU"
   },
   "source": [
    "# Note\n",
    "\n",
    "Before you submit your work \n",
    "\n",
    "* You should compare different optimizers\n",
    "\n",
    "---\n",
    "\n",
    "* Display images with Predicted & expected labels (Happy-sad)\n"
   ]
  },
  {
   "cell_type": "code",
   "execution_count": null,
   "metadata": {
    "colab": {},
    "colab_type": "code",
    "id": "EW_BaM-9p69t"
   },
   "outputs": [],
   "source": []
  },
  {
   "cell_type": "code",
   "execution_count": null,
   "metadata": {},
   "outputs": [],
   "source": []
  },
  {
   "cell_type": "code",
   "execution_count": null,
   "metadata": {},
   "outputs": [],
   "source": []
  },
  {
   "cell_type": "code",
   "execution_count": null,
   "metadata": {},
   "outputs": [],
   "source": []
  }
 ],
 "metadata": {
  "colab": {
   "collapsed_sections": [],
   "name": "ToDo_CP_Happy house.ipynb",
   "provenance": []
  },
  "kernelspec": {
   "display_name": "Python 3",
   "language": "python",
   "name": "python3"
  },
  "language_info": {
   "codemirror_mode": {
    "name": "ipython",
    "version": 3
   },
   "file_extension": ".py",
   "mimetype": "text/x-python",
   "name": "python",
   "nbconvert_exporter": "python",
   "pygments_lexer": "ipython3",
   "version": "3.8.10"
  }
 },
 "nbformat": 4,
 "nbformat_minor": 1
}
